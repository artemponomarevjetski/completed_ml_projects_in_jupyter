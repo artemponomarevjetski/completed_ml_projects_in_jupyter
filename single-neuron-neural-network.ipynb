{
 "cells": [
  {
   "cell_type": "code",
   "execution_count": 1,
   "metadata": {},
   "outputs": [
    {
     "ename": "ModuleNotFoundError",
     "evalue": "No module named 'tensorflow'",
     "output_type": "error",
     "traceback": [
      "\u001b[0;31m---------------------------------------------------------------------------\u001b[0m",
      "\u001b[0;31mModuleNotFoundError\u001b[0m                       Traceback (most recent call last)",
      "\u001b[0;32m<ipython-input-1-b89df41128bc>\u001b[0m in \u001b[0;36m<module>\u001b[0;34m\u001b[0m\n\u001b[1;32m      4\u001b[0m \u001b[0;32mimport\u001b[0m \u001b[0mnumpy\u001b[0m \u001b[0;32mas\u001b[0m \u001b[0mnp\u001b[0m\u001b[0;34m\u001b[0m\u001b[0;34m\u001b[0m\u001b[0m\n\u001b[1;32m      5\u001b[0m \u001b[0;32mimport\u001b[0m \u001b[0mmatplotlib\u001b[0m\u001b[0;34m.\u001b[0m\u001b[0mpyplot\u001b[0m \u001b[0;32mas\u001b[0m \u001b[0mplt\u001b[0m\u001b[0;34m\u001b[0m\u001b[0;34m\u001b[0m\u001b[0m\n\u001b[0;32m----> 6\u001b[0;31m \u001b[0;32mimport\u001b[0m \u001b[0mtensorflow\u001b[0m \u001b[0;32mas\u001b[0m \u001b[0mtf\u001b[0m\u001b[0;34m\u001b[0m\u001b[0;34m\u001b[0m\u001b[0m\n\u001b[0m\u001b[1;32m      7\u001b[0m \u001b[0;34m\u001b[0m\u001b[0m\n\u001b[1;32m      8\u001b[0m \u001b[0;31m# Draw plots inline in the notebook\u001b[0m\u001b[0;34m\u001b[0m\u001b[0;34m\u001b[0m\u001b[0;34m\u001b[0m\u001b[0m\n",
      "\u001b[0;31mModuleNotFoundError\u001b[0m: No module named 'tensorflow'"
     ]
    }
   ],
   "source": [
    "'''Single neuron neural network'''\n",
    "\n",
    "from __future__ import print_function\n",
    "import numpy as np\n",
    "import matplotlib.pyplot as plt\n",
    "import tensorflow as tf\n",
    "\n",
    "# Draw plots inline in the notebook\n",
    "%matplotlib inline\n",
    "\n",
    "# Set up sample points perturbed away from the ideal linear relationship \n",
    "# y = 0.5*x + 2.5\n",
    "num_examples = 60\n",
    "points = np.array([np.linspace(-1, 5, num_examples),\n",
    "  np.linspace(2, 5, num_examples)])\n",
    "points += np.random.randn(2, num_examples)\n",
    "x, y = points\n",
    "# Include a 1 to use as the bias input for neurons\n",
    "x_with_bias = np.array([(1., d) for d in x]).astype(np.float32)\n",
    "\n",
    "# Training parameters\n",
    "training_steps = 100\n",
    "learning_rate = 0.001\n",
    "losses = []\n",
    "\n",
    "with tf.Session():\n",
    "  # Set up all the tensors, variables, and operations.\n",
    "  input = tf.constant(x_with_bias)\n",
    "  target = tf.constant(np.transpose([y]).astype(np.float32))\n",
    "  # Initialize weights with small random values\n",
    "  weights = tf.Variable(tf.random_normal([2, 1], 0, 0.1))\n",
    "\n",
    "  tf.global_variables_initializer().run()\n",
    "\n",
    "  # Calculate the current prediction error\n",
    "  y_predicted = tf.matmul(input, weights)\n",
    "  y_error = tf.subtract(y_predicted, target)\n",
    "\n",
    "  # Compute the L2 loss function of the error\n",
    "  loss = tf.nn.l2_loss(y_error)\n",
    "\n",
    "  # Train the network using an optimizer that minimizes the loss function\n",
    "  update_weights = tf.train.GradientDescentOptimizer(\n",
    "    learning_rate).minimize(loss)\n",
    "\n",
    "  for _ in range(training_steps):\n",
    "    # Repeatedly run the operations, updating the TensorFlow variable.\n",
    "    update_weights.run()\n",
    "    losses.append(loss.eval())\n",
    "\n",
    "  # Training is done, get the final values for the graphs\n",
    "  w = weights.eval()\n",
    "  y_predicted = y_predicted.eval()\n",
    "\n",
    "# Show the fit and the loss over time.\n",
    "fig, (ax1, ax2) = plt.subplots(1, 2)\n",
    "plt.subplots_adjust(wspace=.3)\n",
    "fig.set_size_inches(11, 4)\n",
    "# Plot the perturbed points in blue dots\n",
    "ax1.scatter(x, y, c=\"b\", alpha=.6)\n",
    "# Plot the predicted values in green dots\n",
    "ax1.scatter(x, np.transpose(y_predicted)[0], c=\"g\", alpha=0.6)\n",
    "\n",
    "line_x_range = (-3, 7)\n",
    "# Plot the predicted line in green\n",
    "ax1.plot(line_x_range, [w[1] * x + w[0]\n",
    "                       for x in line_x_range], \"g\", alpha=0.6)\n",
    "# Plot the noise-free line (0.5*x + 2.5) in red\n",
    "ax1.plot(line_x_range, [0.5 * x + 2.5\n",
    "                        for x in line_x_range], \"r\", alpha=0.6)\n",
    "ax1.set_xlabel(\"x\")\n",
    "ax1.set_ylabel(\"y\")\n",
    "ax2.plot(range(0, training_steps), losses)\n",
    "ax2.set_xlabel(\"Training step\")\n",
    "ax2.set_ylabel(\"Loss\")\n",
    "plt.show()"
   ]
  },
  {
   "cell_type": "code",
   "execution_count": null,
   "metadata": {},
   "outputs": [],
   "source": []
  }
 ],
 "metadata": {
  "kernelspec": {
   "display_name": "Python 3",
   "language": "python",
   "name": "python3"
  },
  "language_info": {
   "codemirror_mode": {
    "name": "ipython",
    "version": 3
   },
   "file_extension": ".py",
   "mimetype": "text/x-python",
   "name": "python",
   "nbconvert_exporter": "python",
   "pygments_lexer": "ipython3",
   "version": "3.8.3"
  }
 },
 "nbformat": 4,
 "nbformat_minor": 2
}
